{
  "cells": [
    {
      "cell_type": "markdown",
      "metadata": {
        "id": "view-in-github",
        "colab_type": "text"
      },
      "source": [
        "<a href=\"https://colab.research.google.com/github/Ayushijain0035/Python_Collab/blob/main/Hacker_rank_questions.ipynb\" target=\"_parent\"><img src=\"https://colab.research.google.com/assets/colab-badge.svg\" alt=\"Open In Colab\"/></a>"
      ]
    },
    {
      "cell_type": "markdown",
      "metadata": {
        "id": "CkGUMhKwukUs"
      },
      "source": [
        "## <center><u>Python Intermediate Challenge-1</u></center>\n",
        "\n",
        "\n",
        "54% of the respondents from the O'Reilly Data Science Salary Survey indicated that they used Python as a data science tool. Nobody can deny that Python has been on the rise in the data science industry and it certainly seems that it's here to stay.\n",
        "This rise in popularity in the industry, the long gone infancy of Python packages for data analysis, the low and gradual learning curve and the fact that it is a fully fledged programming language are only a couple of reasons that make Python an exceptional tool for data science.\n",
        "Although Python is a very readable language, you might still be able to use some help.\n",
        "\n",
        "You will be facing some challenging questions on python in this assignment. Below following steps would help you to complete this assignment:\n",
        "\n",
        "`1. Read the question\n",
        "2. Go to the link given under the question\n",
        "3. You will land on Hakerrank page, if not then create your Hakerrank account.\n",
        "4. Once you land on hankerank page mentioned under question, go through the given problem carefully.\n",
        "5. Solve it in the editor given in the page. Select python3 as your language in the editor and click 'Run Code' Button\n",
        "6. Once you have passed all the sample test cases, write your solution in this assignment against each question.`\n",
        "\n",
        "\n",
        "If you need any assistence on python, then please refer below cheatsheets:\n",
        "\n",
        "Cheatsheet reference: http://datacamp-community-prod.s3.amazonaws.com/0eff0330-e87d-4c34-88d5-73e80cb955f2\n",
        "\n",
        "\n",
        "\n",
        "    "
      ]
    },
    {
      "cell_type": "markdown",
      "metadata": {
        "id": "evj-zE57ukUu"
      },
      "source": [
        "#### Q1 Python If-Else\n",
        "\n",
        "link - https://www.hackerrank.com/challenges/py-if-else/problem"
      ]
    },
    {
      "cell_type": "code",
      "execution_count": null,
      "metadata": {
        "id": "8-YfvM42ukUu"
      },
      "outputs": [],
      "source": [
        "\n",
        "import math\n",
        "import os\n",
        "import random\n",
        "import re\n",
        "import sys\n",
        "if __name__ == '__main__':\n",
        "    n = int(input().strip())\n",
        "    if n%2==0 and n in range(2, 6):\n",
        "        print(\"Not Weird\")\n",
        "    elif n%2==0 and n in range(6, 20):\n",
        "        print(\"Weird\")\n",
        "    elif n%2==0 and n > 20:\n",
        "        print(\"Not Weird\")\n",
        "    else:\n",
        "        print(\"Weird\")          "
      ]
    },
    {
      "cell_type": "markdown",
      "metadata": {
        "id": "kpbf5FMKukUv"
      },
      "source": [
        "#### Q2 Arithmetic Operators\n",
        "\n",
        "link - https://www.hackerrank.com/challenges/python-arithmetic-operators/problem"
      ]
    },
    {
      "cell_type": "code",
      "execution_count": null,
      "metadata": {
        "id": "nereLD8yukUw"
      },
      "outputs": [],
      "source": [
        "if __name__ == '__main__':\n",
        "    a = int(input())\n",
        "    b = int(input())\n",
        "    print(a+b)\n",
        "    print(a-b)\n",
        "    print(a*b)"
      ]
    },
    {
      "cell_type": "markdown",
      "metadata": {
        "id": "7hWYMUITukUw"
      },
      "source": [
        "#### Q3 Print Function\n",
        "\n",
        "link - https://www.hackerrank.com/challenges/python-print/problem"
      ]
    },
    {
      "cell_type": "code",
      "execution_count": null,
      "metadata": {
        "id": "C5tZjr_iukUx"
      },
      "outputs": [],
      "source": [
        "if __name__ == '__main__':\n",
        "    n = int(input())\n",
        "    for i in range (1, n+1):\n",
        "        print(i, end= \"\")"
      ]
    },
    {
      "cell_type": "markdown",
      "metadata": {
        "id": "1lAvzXkpukUx"
      },
      "source": [
        "#### Q4 Write a function\n",
        "\n",
        "link - https://www.hackerrank.com/challenges/write-a-function/problem"
      ]
    },
    {
      "cell_type": "code",
      "execution_count": null,
      "metadata": {
        "id": "aP2_ICMZukUy"
      },
      "outputs": [],
      "source": [
        "def is_leap(year):\n",
        "    if (1900<= year <= 100000):\n",
        "        leap = False\n",
        "    if (year % 4 == 0) and (year % 100 != 0):\n",
        "        leap = True\n",
        "    elif(year % 400 == 0) and (year % 100 == 0):\n",
        "         leap = True       \n",
        "    return leap\n",
        "year = int(input())\n",
        "print(is_leap(year))"
      ]
    },
    {
      "cell_type": "markdown",
      "metadata": {
        "id": "G5irLj_IukUy"
      },
      "source": [
        "#### Q5 List Comprehensions\n",
        "\n",
        "link - https://www.hackerrank.com/challenges/list-comprehensions/problem"
      ]
    },
    {
      "cell_type": "code",
      "execution_count": null,
      "metadata": {
        "id": "o0DydsgBukUz"
      },
      "outputs": [],
      "source": [
        "if __name__ == '__main__':\n",
        "    x = int(input())\n",
        "    y = int(input())\n",
        "    z = int(input())\n",
        "    n = int(input())\n",
        "    print([[i,j,k] for i in range(x+1) for j in range(y+1) for k in range(z+1) if i+j+k != n])"
      ]
    },
    {
      "cell_type": "markdown",
      "metadata": {
        "id": "ARkVKn17ukU0"
      },
      "source": [
        "#### Q6 Find the Runner-Up Score!\n",
        "\n",
        "link - https://www.hackerrank.com/challenges/find-second-maximum-number-in-a-list/problem"
      ]
    },
    {
      "cell_type": "code",
      "execution_count": null,
      "metadata": {
        "id": "2URtR28YukU0"
      },
      "outputs": [],
      "source": [
        "if __name__ == '__main__':\n",
        "    n = int(input())\n",
        "    arr = map(int, input().split())\n",
        "    print(sorted(list(set(arr)))[-2])"
      ]
    },
    {
      "cell_type": "markdown",
      "metadata": {
        "id": "HtkRWb9pukU0"
      },
      "source": [
        "#### Q7 Nested Lists\n",
        "\n",
        "link - https://www.hackerrank.com/challenges/nested-list/problem"
      ]
    },
    {
      "cell_type": "code",
      "execution_count": null,
      "metadata": {
        "id": "z5h21EJGukU1"
      },
      "outputs": [],
      "source": [
        "if __name__ == '__main__':\n",
        "    students =[]\n",
        "    for _ in range(int(input())):\n",
        "        name = input()\n",
        "        score = float(input())\n",
        "        students.append([name, score])\n",
        "    grades = sorted(set(g for _, g in students)) \n",
        "    second_lowest = grades [1]   \n",
        "    for name in sorted(n for n, g in students if g ==second_lowest):\n",
        "        print(name) "
      ]
    },
    {
      "cell_type": "markdown",
      "metadata": {
        "id": "Shh8DYFCukU1"
      },
      "source": [
        "#### Q8 Finding the percentage\n",
        "\n",
        "link - https://www.hackerrank.com/challenges/finding-the-percentage/problem"
      ]
    },
    {
      "cell_type": "code",
      "execution_count": null,
      "metadata": {
        "id": "ULAztLbvukU1"
      },
      "outputs": [],
      "source": [
        "if __name__ == '__main__':\n",
        "    n = int(input())\n",
        "    student_marks = {}\n",
        "    for _ in range(n):\n",
        "        name, *line = input().split()\n",
        "        scores = list(map(float, line))\n",
        "        student_marks[name] = scores\n",
        "    query_name = input()\n",
        "    average = sum(student_marks[query_name]) / len(student_marks[query_name])\n",
        "    print('%.2f' %average)"
      ]
    },
    {
      "cell_type": "markdown",
      "metadata": {
        "id": "4z5Uxp9hukU2"
      },
      "source": [
        "#### Q9 Lists\n",
        "\n",
        "link - https://www.hackerrank.com/challenges/python-lists/problem"
      ]
    },
    {
      "cell_type": "code",
      "execution_count": null,
      "metadata": {
        "id": "NWQ4c_WYukU2"
      },
      "outputs": [],
      "source": [
        "if __name__ == '__main__':\n",
        "    N = int(input())\n",
        "    list_1 = []\n",
        "    for i in range(N):\n",
        "        entry = input().split(' ')\n",
        "        if entry[0] ==\"insert\":\n",
        "            list_1.insert(int(entry[1]), int(entry[2]))\n",
        "        elif entry[0]==\"append\":\n",
        "            list_1.append(int(entry[1]))\n",
        "        elif entry[0]== \"remove\":\n",
        "            list_1.remove(int(entry[1]))\n",
        "        elif entry[0] == \"sort\":\n",
        "            list_1.sort()\n",
        "        elif entry[0]==\"pop\":\n",
        "            list_1.pop()  \n",
        "        elif entry[0]==\"print\":\n",
        "            print(list_1)\n",
        "        elif entry[0] ==\"reverse\":\n",
        "            list_1.reverse() "
      ]
    },
    {
      "cell_type": "markdown",
      "metadata": {
        "id": "o2FWQyeBukU3"
      },
      "source": [
        "#### Q10 Tuples\n",
        "\n",
        "\n",
        "link - https://www.hackerrank.com/challenges/python-tuples/problem"
      ]
    },
    {
      "cell_type": "code",
      "execution_count": null,
      "metadata": {
        "id": "-fhycz_lukU3"
      },
      "outputs": [],
      "source": [
        "if __name__ == '__main__':\n",
        "    n = int(input())\n",
        "    integer_list = map(int, input().split())\n",
        "    integer_list = hash(tuple(integer_list))\n",
        "    print(integer_list)"
      ]
    },
    {
      "cell_type": "markdown",
      "metadata": {
        "id": "hMNtxJmhukU3"
      },
      "source": [
        "#### Q11 The Minion Game\n",
        "\n",
        "link - https://www.hackerrank.com/challenges/the-minion-game/problem"
      ]
    },
    {
      "cell_type": "code",
      "execution_count": null,
      "metadata": {
        "id": "3_wbSzJiukU3"
      },
      "outputs": [],
      "source": [
        "def minion_game(string):\n",
        "    # your code goes here\n",
        "    vowel = ['A', 'E','I','O','U']\n",
        "    K = 0\n",
        "    S = 0\n",
        "    for i in range(len(string)):\n",
        "        if string[i] in vowel:\n",
        "            K+= len(string) -i\n",
        "        else:\n",
        "            S+= len(string) -i\n",
        "    if S>K:\n",
        "        print(f\"Stuart {S}\") \n",
        "    elif K>S:\n",
        "        print(f\"Kevin {K}\")\n",
        "    else:\n",
        "        print(\"Draw\")                   \n",
        "\n",
        "if __name__ == '__main__':\n",
        "    s = input()\n",
        "    minion_game(s)"
      ]
    },
    {
      "cell_type": "markdown",
      "metadata": {
        "id": "ytz4w1VMukU4"
      },
      "source": [
        "#### Q12 Designer door mat\n",
        "\n",
        "link - https://www.hackerrank.com/challenges/designer-door-mat/problem"
      ]
    },
    {
      "cell_type": "code",
      "execution_count": null,
      "metadata": {
        "id": "uQQ79KBoukU4"
      },
      "outputs": [],
      "source": [
        "n, m = map(int, input().split())\n",
        "pattern = [('.|.'*(2*i + 1)).center(m, '-') for i in range (n//2)]\n",
        "print('\\n'.join(pattern + ['WELCOME'.center(m,'-')] + pattern[::-1]))"
      ]
    },
    {
      "cell_type": "markdown",
      "metadata": {
        "id": "nuY_2ucLukU4"
      },
      "source": [
        "#### Q13 Merge the tools\n",
        "\n",
        "link - https://www.hackerrank.com/challenges/merge-the-tools/problem"
      ]
    },
    {
      "cell_type": "code",
      "execution_count": null,
      "metadata": {
        "id": "MTi9fLbsukU4"
      },
      "outputs": [],
      "source": [
        "def merge_the_tools(string, k):\n",
        "    # your code goes here\n",
        "    for i in range(0, len(string), k):\n",
        "        unique =''\n",
        "        for c in string[i:i+k]:\n",
        "            if (c not in unique):\n",
        "                unique+=c\n",
        "        print(unique)        \n",
        "\n",
        "if __name__ == '__main__':\n",
        "    string, k = input(), int(input())\n",
        "    merge_the_tools(string, k)"
      ]
    },
    {
      "cell_type": "markdown",
      "metadata": {
        "id": "saFE5XryukU4"
      },
      "source": [
        "#### Q14 find a string\n",
        "\n",
        "link - https://www.hackerrank.com/challenges/find-a-string/problem"
      ]
    },
    {
      "cell_type": "code",
      "execution_count": null,
      "metadata": {
        "id": "s9Wfd0hpukU4"
      },
      "outputs": [],
      "source": [
        "def count_substring(string, sub_string):\n",
        "    count = 0\n",
        "    for i in range(0, len(string)):\n",
        "        if string[i:].startswith(sub_string):\n",
        "            count+=1\n",
        "    return count\n",
        "if __name__ == '__main__':\n",
        "    string = input().strip()\n",
        "    sub_string = input().strip()\n",
        "    \n",
        "    count = count_substring(string, sub_string)\n",
        "    print(count)"
      ]
    },
    {
      "cell_type": "markdown",
      "metadata": {
        "id": "OqrRhtRDukU5"
      },
      "source": [
        "#### Q15 no idea\n",
        "\n",
        "link - https://www.hackerrank.com/challenges/no-idea/problem"
      ]
    },
    {
      "cell_type": "code",
      "execution_count": null,
      "metadata": {
        "id": "v0QQF1BCukU5"
      },
      "outputs": [],
      "source": [
        "num = input().split()\n",
        "arr = input().split()\n",
        "like_a=set(input().split())\n",
        "dislike_b = set(input().split())\n",
        "\n",
        "print(sum((i in like_a) - (i in dislike_b) for i in arr))"
      ]
    },
    {
      "cell_type": "markdown",
      "metadata": {
        "id": "phSrH29HukU5"
      },
      "source": [
        "#### Q16 Symmetric difference set\n",
        "\n",
        "link - https://www.hackerrank.com/challenges/py-set-symmetric-difference-operation/problem\n"
      ]
    },
    {
      "cell_type": "code",
      "execution_count": null,
      "metadata": {
        "id": "auJHfUNDukU5"
      },
      "outputs": [],
      "source": [
        "num1 = int(input())\n",
        "english_stu = set(input().split())\n",
        "num_2 = int(input())\n",
        "french_stu = set(input().split())\n",
        "\n",
        "print(len(english_stu.symmetric_difference(french_stu)))"
      ]
    },
    {
      "cell_type": "markdown",
      "metadata": {
        "id": "JEsCOG90ukU6"
      },
      "source": [
        "#### Q17 lambda map expression\n",
        "\n",
        "link - https://www.hackerrank.com/challenges/map-and-lambda-expression/problem"
      ]
    },
    {
      "cell_type": "code",
      "execution_count": null,
      "metadata": {
        "id": "qAM_wKmEukU6"
      },
      "outputs": [],
      "source": [
        "cube = lambda x: x**3 \n",
        "\n",
        "def fibonacci(n):\n",
        "    a, b = 0, 1\n",
        "    for i in range(n):\n",
        "        yield a\n",
        "        a, b = b, a+b\n",
        "\n",
        "if __name__ == '__main__':\n",
        "    n = int(input())\n",
        "    print(list(map(cube, fibonacci(n))))"
      ]
    },
    {
      "cell_type": "markdown",
      "metadata": {
        "id": "Ws8YBfFMukU6"
      },
      "source": [
        "#### Q18. validate list of email address\n",
        "\n",
        "link - https://www.hackerrank.com/challenges/validate-list-of-email-address-with-filter/problem\n"
      ]
    },
    {
      "cell_type": "code",
      "execution_count": null,
      "metadata": {
        "id": "AxZ6GzRpukU6"
      },
      "outputs": [],
      "source": [
        "import re\n",
        "def fun(s):\n",
        "    pattern = re.compile(\"^[\\w-]+@[a-z-A-Z0-9]+\\.[a-zA-Z]{1,3}$\")\n",
        "    return pattern.match(s)\n",
        "    # return True if s is a valid email, else return False\n",
        "\n",
        "def filter_mail(emails):\n",
        "    return list(filter(fun, emails))\n",
        "\n",
        "if __name__ == '__main__':\n",
        "    n = int(input())\n",
        "    emails = []\n",
        "    for _ in range(n):\n",
        "        emails.append(input())\n",
        "\n",
        "filtered_emails = filter_mail(emails)\n",
        "filtered_emails.sort()\n",
        "print(filtered_emails)"
      ]
    },
    {
      "cell_type": "markdown",
      "metadata": {
        "id": "sgnYsfIgukU6"
      },
      "source": [
        "#### Q19 reduce function problem\n",
        "\n",
        "link - https://www.hackerrank.com/challenges/reduce-function/problem\n"
      ]
    },
    {
      "cell_type": "code",
      "execution_count": null,
      "metadata": {
        "id": "wun2r_ErukU7"
      },
      "outputs": [],
      "source": [
        "from fractions import Fraction\n",
        "from functools import reduce\n",
        "\n",
        "def product(fracs):\n",
        "    t = reduce(lambda x, y: x*y, fracs)\n",
        "    return t.numerator, t.denominator\n",
        "\n",
        "if __name__ == '__main__':\n",
        "    fracs = []\n",
        "    for _ in range(int(input())):\n",
        "        fracs.append(Fraction(*map(int, input().split())))\n",
        "    result = product(fracs)\n",
        "    print(*result)"
      ]
    },
    {
      "cell_type": "markdown",
      "metadata": {
        "id": "3qoleqs1ukU7"
      },
      "source": [
        "#### Q20 collection counter problem\n",
        "\n",
        "link - https://www.hackerrank.com/challenges/collections-counter/problem\n"
      ]
    },
    {
      "cell_type": "code",
      "execution_count": null,
      "metadata": {
        "id": "bKj3nxB-ukU7"
      },
      "outputs": [],
      "source": [
        "from collections import Counter\n",
        "numshoes = int(input())\n",
        "shoes_size = Counter(map(int, input().split()))\n",
        "numcust = int(input())\n",
        "\n",
        "income = 0\n",
        "for i in range(numcust):\n",
        "    size,price = map(int, input().split())\n",
        "    if shoes_size[size]:\n",
        "        income +=price\n",
        "        shoes_size[size] -= 1\n",
        "print(income) "
      ]
    },
    {
      "cell_type": "markdown",
      "metadata": {
        "id": "SvLTHvefukU7"
      },
      "source": [
        "#### Q21 collections namedtuple\n",
        "\n",
        "link - https://www.hackerrank.com/challenges/py-collections-namedtuple/problem\n"
      ]
    },
    {
      "cell_type": "code",
      "execution_count": null,
      "metadata": {
        "id": "h1NAW1jkukU7"
      },
      "outputs": [],
      "source": [
        "from collections import namedtuple\n",
        "total_students= int(input())\n",
        "Students = namedtuple('Students', list(input().split()))\n",
        "total_marks = 0\n",
        "for _ in range(total_students):\n",
        "    student = Students(*input().split())\n",
        "    total_marks += int(student.MARKS)\n",
        "print(\"{:.2f}\".format(total_marks/total_students))"
      ]
    },
    {
      "cell_type": "markdown",
      "metadata": {
        "id": "wAXVQ5JKukU7"
      },
      "source": [
        "#### Q22 default dict \n",
        "\n",
        "link - \n",
        "https://www.hackerrank.com/challenges/defaultdict-tutorial/problem\n"
      ]
    },
    {
      "cell_type": "code",
      "execution_count": null,
      "metadata": {
        "id": "mEHfGC2LukU7"
      },
      "outputs": [],
      "source": [
        "from collections import defaultdict \n",
        "A = defaultdict(list)\n",
        "n, m = map(int, input().split())\n",
        "for i in range(1, n+1):\n",
        "    A[input()].append(str(i))\n",
        "for _ in range(m):\n",
        "    val = input()\n",
        "    if val in A:\n",
        "        print(\" \".join(A[val]))  \n",
        "    else:\n",
        "        print(-1)"
      ]
    },
    {
      "cell_type": "markdown",
      "metadata": {
        "id": "oo6x2aZ3ukU8"
      },
      "source": [
        "#### Q23 Ordered dict\n",
        "\n",
        "link - https://www.hackerrank.com/challenges/py-collections-ordereddict/problem\n"
      ]
    },
    {
      "cell_type": "code",
      "execution_count": null,
      "metadata": {
        "id": "pfE0CqmCukU8"
      },
      "outputs": [],
      "source": [
        "from collections import OrderedDict\n",
        "purchased_items  = OrderedDict()\n",
        "N = int(input())\n",
        "for i in range(N):\n",
        "    item_name, price = input().rsplit(' ', 1)\n",
        "    if item_name in purchased_items:\n",
        "        purchased_items[item_name] += int(price)\n",
        "    else:\n",
        "        purchased_items[item_name] = int(price)\n",
        "for item in purchased_items:\n",
        "    print(item, purchased_items[item])"
      ]
    },
    {
      "cell_type": "markdown",
      "metadata": {
        "id": "gHhrOuKwukU8"
      },
      "source": [
        "#### Q24 word order\n",
        "\n",
        "link - https://www.hackerrank.com/challenges/word-order/problem\n"
      ]
    },
    {
      "cell_type": "code",
      "execution_count": null,
      "metadata": {
        "id": "mHLrzId5ukU8"
      },
      "outputs": [],
      "source": [
        "from collections import Counter\n",
        "\n",
        "n = int(input())\n",
        "texts = Counter(input() for _ in range(n))\n",
        "\n",
        "print(len(texts))\n",
        "print(*texts.values())"
      ]
    },
    {
      "cell_type": "markdown",
      "metadata": {
        "id": "zf9Uym_TukU8"
      },
      "source": [
        "#### Q25 Company logo\n",
        "\n",
        "link - https://www.hackerrank.com/challenges/most-commons/problem\n"
      ]
    },
    {
      "cell_type": "code",
      "execution_count": null,
      "metadata": {
        "id": "aE8xyuYMukU9"
      },
      "outputs": [],
      "source": [
        "import math\n",
        "import os\n",
        "import random\n",
        "import re\n",
        "import sys\n",
        "from collections import Counter\n",
        "if __name__ == '__main__':\n",
        "    s = input()\n",
        "    [print(*c) for c in Counter(sorted(s)).most_common()[:3]]"
      ]
    },
    {
      "cell_type": "markdown",
      "metadata": {
        "id": "K1pgZvZDukU9"
      },
      "source": [
        "#### Q26 itertools product\n",
        "\n",
        "link - https://www.hackerrank.com/challenges/itertools-product/problem\n",
        " "
      ]
    },
    {
      "cell_type": "code",
      "execution_count": null,
      "metadata": {
        "id": "dQTV6rDVukU9"
      },
      "outputs": [],
      "source": [
        "from itertools import product\n",
        "A = list(map(int,input().split()))\n",
        "B = list(map(int,input().split()))\n",
        "print(*tuple(product(A, B)))"
      ]
    },
    {
      "cell_type": "markdown",
      "metadata": {
        "id": "VCbQMvECukU9"
      },
      "source": [
        "#### Q27 itertools permutation\n",
        "\n",
        "link - https://www.hackerrank.com/challenges/itertools-permutations/problem\n"
      ]
    },
    {
      "cell_type": "code",
      "execution_count": null,
      "metadata": {
        "id": "jpjWqMAsukU9"
      },
      "outputs": [],
      "source": [
        "from itertools import permutations\n",
        "S, k = input().split()\n",
        "S = sorted(S)\n",
        "k = int(k)\n",
        "\n",
        "for each in permutations(S, k):\n",
        "    print(''.join(each))"
      ]
    },
    {
      "cell_type": "markdown",
      "metadata": {
        "id": "UY4CH-_rukU9"
      },
      "source": [
        "#### Q28 itertools combination\n",
        "\n",
        "link - https://www.hackerrank.com/challenges/itertools-combinations/problem\n"
      ]
    },
    {
      "cell_type": "code",
      "execution_count": null,
      "metadata": {
        "id": "b9A0sO91ukU-"
      },
      "outputs": [],
      "source": [
        "from itertools import combinations\n",
        "s, k = input().split()\n",
        "for i in range(int(k)): \n",
        "    print(*sorted(list(map(\"\".join, combinations(sorted(s), i+1)))), sep=\"\\n\")"
      ]
    },
    {
      "cell_type": "markdown",
      "metadata": {
        "id": "Lafq5wvDukU-"
      },
      "source": [
        "#### Q29 itertools combination\n",
        "\n",
        "link - https://www.hackerrank.com/challenges/itertools-combinations-with-replacement/problem\n"
      ]
    },
    {
      "cell_type": "code",
      "execution_count": null,
      "metadata": {
        "id": "mnZ2WIWiukU-"
      },
      "outputs": [],
      "source": [
        "from itertools import combinations_with_replacement\n",
        "s, k = input().split()\n",
        "k = int(k)\n",
        "print(*sorted(list(map(\"\".join, combinations_with_replacement(sorted(s),k)))), sep=\"\\n\")"
      ]
    },
    {
      "cell_type": "markdown",
      "metadata": {
        "id": "_4R2Bt9FukU-"
      },
      "source": [
        "#### Q30 compress the string\n",
        "\n",
        "link - https://www.hackerrank.com/challenges/compress-the-string/problem\n"
      ]
    },
    {
      "cell_type": "code",
      "execution_count": null,
      "metadata": {
        "id": "Y_NmSOCYukU-"
      },
      "outputs": [],
      "source": [
        "from itertools import groupby\n",
        "lst=[]\n",
        "for i in ([list(g) for k, g in groupby(input())]):\n",
        "   lst.append((len(i),int(i[0])))\n",
        "print(*lst)"
      ]
    },
    {
      "cell_type": "markdown",
      "metadata": {
        "id": "sIjgTZETukU-"
      },
      "source": [
        "#### Q31 iterables and iterators\n",
        "\n",
        "link - https://www.hackerrank.com/challenges/iterables-and-iterators/problem\n"
      ]
    },
    {
      "cell_type": "code",
      "execution_count": null,
      "metadata": {
        "id": "l4kEYOjRukU-"
      },
      "outputs": [],
      "source": [
        "from itertools import combinations\n",
        "\n",
        "length = int(input())\n",
        "letters = input().split(' ')\n",
        "n_indices = int(input())\n",
        "\n",
        "combinations = list(combinations(letters , n_indices))\n",
        "\n",
        "a_occur = sum(list(map(lambda x: int('a' in x), combinations)))\n",
        "\n",
        "print(a_occur / len(combinations))"
      ]
    },
    {
      "cell_type": "markdown",
      "metadata": {
        "id": "vXRn1fBRukU_"
      },
      "source": [
        "#### Q32 Maximize it\n",
        "\n",
        "link - https://www.hackerrank.com/challenges/maximize-it/problem\n"
      ]
    },
    {
      "cell_type": "code",
      "execution_count": null,
      "metadata": {
        "id": "QDvifO26ukU_"
      },
      "outputs": [],
      "source": [
        "from itertools import product\n",
        "K , M = map(int, input().split())\n",
        "length = [[int(j)**2 for j in input().split()[1:]] for _ in range (K)]\n",
        "print(max(sum(i)%M for i in product(*length)))"
      ]
    },
    {
      "cell_type": "markdown",
      "metadata": {
        "id": "Jc5fFYzYukU_"
      },
      "source": [
        "---------------------------------\n",
        "\n",
        "# \"Cheers\":) Congratulations! you have completed the Python Intermediate challenge. \n",
        "\n",
        "--------------------------------\n",
        "\n",
        "# FeedBack\n",
        "We hope you’ve enjoyed this course so far. We’re committed to help you use \"AI for All\" course to its full potential, so that you have a great learning experience. And that’s why we need your help in form of a feedback here.\n",
        "\n",
        "Please fill this feedback form  https://zfrmz.in/MtRG5oWXBdesm6rmSM7N"
      ]
    }
  ],
  "metadata": {
    "kernelspec": {
      "display_name": "Python 3",
      "language": "python",
      "name": "python3"
    },
    "language_info": {
      "codemirror_mode": {
        "name": "ipython",
        "version": 3
      },
      "file_extension": ".py",
      "mimetype": "text/x-python",
      "name": "python",
      "nbconvert_exporter": "python",
      "pygments_lexer": "ipython3",
      "version": "3.8.5"
    },
    "colab": {
      "provenance": [],
      "include_colab_link": true
    }
  },
  "nbformat": 4,
  "nbformat_minor": 0
}